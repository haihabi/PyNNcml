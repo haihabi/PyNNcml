{
 "cells": [
  {
   "cell_type": "markdown",
   "metadata": {},
   "source": [
    "# Imports"
   ]
  },
  {
   "cell_type": "code",
   "metadata": {
    "collapsed": false,
    "jupyter": {
     "outputs_hidden": false
    },
    "pycharm": {
     "is_executing": false,
     "name": "#%%\n"
    },
    "ExecuteTime": {
     "end_time": "2025-09-24T13:09:15.625122Z",
     "start_time": "2025-09-24T13:09:14.128129Z"
    }
   },
   "source": [
    "import pynncml as pnc \n",
    "from matplotlib import pyplot as plt"
   ],
   "outputs": [
    {
     "name": "stderr",
     "output_type": "stream",
     "text": [
      "/Users/haihab01/envs/research_base/lib/python3.11/site-packages/tqdm/auto.py:21: TqdmWarning: IProgress not found. Please update jupyter and ipywidgets. See https://ipywidgets.readthedocs.io/en/stable/user_install.html\n",
      "  from .autonotebook import tqdm as notebook_tqdm\n"
     ]
    }
   ],
   "execution_count": 1
  },
  {
   "cell_type": "markdown",
   "metadata": {},
   "source": [
    "# Load OpenCML Dataset"
   ]
  },
  {
   "cell_type": "code",
   "metadata": {
    "collapsed": false,
    "jupyter": {
     "outputs_hidden": false
    },
    "pycharm": {
     "is_executing": false,
     "name": "#%% \n"
    },
    "ExecuteTime": {
     "end_time": "2025-09-24T13:09:15.707062Z",
     "start_time": "2025-09-24T13:09:15.635194Z"
    }
   },
   "source": [
    "open_cml_dataset = pnc.read_open_cml_dataset('../dataset/open_cml.p') #  read OpenCML dataset"
   ],
   "outputs": [
    {
     "ename": "AttributeError",
     "evalue": "module 'pynncml' has no attribute 'read_open_cml_dataset'",
     "output_type": "error",
     "traceback": [
      "\u001B[31m---------------------------------------------------------------------------\u001B[39m",
      "\u001B[31mAttributeError\u001B[39m                            Traceback (most recent call last)",
      "\u001B[36mCell\u001B[39m\u001B[36m \u001B[39m\u001B[32mIn[2]\u001B[39m\u001B[32m, line 1\u001B[39m\n\u001B[32m----> \u001B[39m\u001B[32m1\u001B[39m open_cml_dataset = \u001B[43mpnc\u001B[49m\u001B[43m.\u001B[49m\u001B[43mread_open_cml_dataset\u001B[49m(\u001B[33m'\u001B[39m\u001B[33m../dataset/open_cml.p\u001B[39m\u001B[33m'\u001B[39m) \u001B[38;5;66;03m#  read OpenCML dataset\u001B[39;00m\n",
      "\u001B[31mAttributeError\u001B[39m: module 'pynncml' has no attribute 'read_open_cml_dataset'"
     ]
    }
   ],
   "execution_count": 2
  },
  {
   "cell_type": "markdown",
   "metadata": {},
   "source": [
    "# Select Link and Plot link data"
   ]
  },
  {
   "cell_type": "code",
   "execution_count": 17,
   "metadata": {
    "collapsed": false,
    "jupyter": {
     "outputs_hidden": false
    },
    "pycharm": {
     "is_executing": false,
     "name": "#%% \n"
    }
   },
   "outputs": [
    {
     "data": {
      "image/png": "[encoded data removed]",
      "text/plain": [
       "<Figure size 432x288 with 2 Axes>"
      ]
     },
     "metadata": {
      "needs_background": "light"
     },
     "output_type": "display_data"
    }
   ],
   "source": [
    "link_index = 19\n",
    "link_data = open_cml_dataset[link_index] # select a link \n",
    "link_data.plot() # plot link data\n",
    "plt.show()"
   ]
  },
  {
   "cell_type": "markdown",
   "metadata": {},
   "source": [
    "# Run rain estimation using dynamic baseline"
   ]
  },
  {
   "cell_type": "code",
   "execution_count": 18,
   "metadata": {
    "collapsed": false,
    "jupyter": {
     "outputs_hidden": false
    },
    "pycharm": {
     "is_executing": false,
     "name": "#%% \n"
    }
   },
   "outputs": [],
   "source": [
    "osd = pnc.rain_estimation.one_step_dynamic_baseline(pnc.power_law.PowerLawType.INSTANCE,1.2,8) # init classification model\n",
    "rain = osd(link_data.attenuation(),link_data.meta_data) # run classification method"
   ]
  },
  {
   "cell_type": "code",
   "execution_count": 19,
   "metadata": {
    "collapsed": false,
    "jupyter": {
     "outputs_hidden": false
    },
    "pycharm": {
     "is_executing": false,
     "name": "#%% Plot Rain Estimation result\n"
    }
   },
   "outputs": [
    {
     "data": {
      "image/png": "[encoded data removed]",
      "text/plain": [
       "<Figure size 432x288 with 1 Axes>"
      ]
     },
     "metadata": {
      "needs_background": "light"
     },
     "output_type": "display_data"
    }
   ],
   "source": [
    "plt.plot(link_data.time(), rain.numpy()[0, :])\n",
    "plt.title('Rain Estimation')\n",
    "plt.xlabel('Time')\n",
    "pnc.change_x_axis_time_format('%H')\n",
    "plt.grid()\n",
    "plt.show()"
   ]
  },
  {
   "cell_type": "code",
   "execution_count": 19,
   "metadata": {
    "collapsed": false,
    "jupyter": {
     "outputs_hidden": false
    },
    "pycharm": {
     "is_executing": false,
     "name": "#%% md Perfomance Evaluation\n"
    }
   },
   "outputs": [],
   "source": []
  },
  {
   "cell_type": "code",
   "execution_count": 20,
   "metadata": {
    "collapsed": false,
    "jupyter": {
     "outputs_hidden": false
    },
    "pycharm": {
     "is_executing": false,
     "name": "#%%\n"
    }
   },
   "outputs": [
    {
     "name": "stdout",
     "output_type": "stream",
     "text": [
      "MSE Result: 0.08\n"
     ]
    }
   ],
   "source": [
    "print(\"MSE Result: {0:.2f}\".format(pnc.metrics.mse(rain.numpy(),link_data.rain())))"
   ]
  },
  {
   "cell_type": "markdown",
   "metadata": {
    "pycharm": {
     "name": "#%% md\n"
    }
   },
   "source": [
    "# References\n",
    "[1] J. Ostrometzky and H. Messer. Dynamic determination of the baseline level in microwave\n",
    "links for rain monitoring from minimum attenuation values. IEEE Journal of Selected Topics\n",
    "in Applied Earth Observations and Remote Sensing, 11(1):24–33, Jan 2018. ISSN 1939-1404. doi: 10.1109/JSTARS.2017.2752902. <br>\n",
    "[2] Jonatan Ostrometzky, Adam Eshel, Pinhas Alpert, and Hagit Messer. Induced bias in attenuation measurements taken from commercial microwave links. In 2017 IEEE International\n",
    "Conference on Acoustics, Speech and Signal Processing (ICASSP), pages 3744–3748. IEEE,2017. <br>\n",
    "[3] Jonatan Ostrometzky, Roi Raich, Adam Eshel, and Hagit Messer.\n",
    "Calibration of the\n",
    "attenuation-rain rate power-law parameters using measurements from commercial microwave networks. In 2016 IEEE International Conference on Acoustics, Speech and Signal\n",
    "Processing (ICASSP), pages 3736–3740. IEEE, 2016.\n"
   ]
  }
 ],
 "metadata": {
  "kernelspec": {
   "display_name": "Python 3 (ipykernel)",
   "language": "python",
   "name": "python3"
  },
  "language_info": {
   "codemirror_mode": {
    "name": "ipython",
    "version": 3
   },
   "file_extension": ".py",
   "mimetype": "text/x-python",
   "name": "python",
   "nbconvert_exporter": "python",
   "pygments_lexer": "ipython3",
   "version": "3.9.16"
  },
  "pycharm": {
   "stem_cell": {
    "cell_type": "raw",
    "metadata": {
     "collapsed": false
    },
    "source": []
   }
  }
 },
 "nbformat": 4,
 "nbformat_minor": 4
}
